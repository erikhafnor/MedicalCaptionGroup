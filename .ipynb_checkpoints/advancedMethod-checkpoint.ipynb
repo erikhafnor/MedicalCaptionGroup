{
 "cells": [
  {
   "cell_type": "code",
   "execution_count": null,
   "id": "e9c106e5",
   "metadata": {},
   "outputs": [
    {
     "name": "stdout",
     "output_type": "stream",
     "text": [
      "Sending text-only request to https://ollama.ux.uis.no/api/chat\n",
      "Response status: 200\n",
      "Response headers: {'Alt-Svc': 'h3=\":443\"; ma=2592000', 'Content-Type': 'application/x-ndjson', 'Date': 'Thu, 24 Apr 2025 11:19:27 GMT', 'Server': 'Caddy', 'Transfer-Encoding': 'chunked'}\n",
      "Response content: {\"model\":\"llava:13b\",\"created_at\":\"2025-04-24T11:19:27.382097312Z\",\"message\":{\"role\":\"assistant\",\"content\":\" The\"},\"done\":false}\n",
      "{\"model\":\"llava:13b\",\"created_at\":\"2025-04-24T11:19:27.408744123Z\",\"message\":{\"role\":\"assistant\",\"content\":\" color\"},\"done\":false}\n",
      "{\"model\":\"llava:13b\",\"created_at\":\"2025-04-24T11:19:27.419902541Z\",\"message\":{\"role\":\"assistant\",\"content\":\" of\"},\"done\":false}\n",
      "{\"model\":\"llava:13b\",\"created_at\":\"2025-04-24T11:19:27.431275566Z\",\"message\":{\"role\":\"assistant\",\"content\":\" an\"\n",
      "\n",
      "Success! Full response:\n",
      "Error occurred: Extra data: line 2 column 1 (char 129)\n"
     ]
    }
   ],
   "source": [
    "import os\n",
    "import io\n",
    "import json\n",
    "import requests\n",
    "import base64\n",
    "from PIL import Image\n",
    "from datasets import load_dataset\n",
    "import matplotlib.pyplot as plt\n",
    "\n",
    "# 1. Load dataset and get a single image\n",
    "print(\"Loading dataset...\")\n",
    "dataset = load_dataset(\"eltorio/ROCOv2-radiology\")\n",
    "example = dataset[\"test\"][2]  # Get the first image from the test set\n",
    "image = example[\"image\"]\n",
    "caption = example[\"caption\"]\n",
    "image_id = example.get(\"image_id\", \"sample_image\")\n",
    "\n",
    "print(f\"Got image with ID: {image_id}\")\n",
    "print(f\"Original caption: {caption}\")\n",
    "\n",
    "# Display the original image\n",
    "plt.figure(figsize=(10, 10))\n",
    "plt.imshow(image)\n",
    "plt.title(\"Original Image\")\n",
    "plt.axis('off')\n",
    "plt.show()\n",
    "\n",
    "# 2. Convert image to base64\n",
    "buffer = io.BytesIO()\n",
    "image.save(buffer, format=\"PNG\")\n",
    "buffer.seek(0)\n",
    "image_bytes = buffer.getvalue()\n",
    "base64_image = base64.b64encode(image_bytes).decode('utf-8')\n",
    "\n",
    "# Decode the base64 image back to verify it's correct\n",
    "decoded_image_bytes = base64.b64decode(base64_image)\n",
    "decoded_image = Image.open(io.BytesIO(decoded_image_bytes))\n",
    "\n",
    "# Display the decoded image to verify it matches the original\n",
    "plt.figure(figsize=(10, 10))\n",
    "plt.imshow(decoded_image)\n",
    "plt.title(\"Decoded Base64 Image\")\n",
    "plt.axis('off')\n",
    "plt.show()\n",
    "\n",
    "# 3. Check how the API expects the image format\n",
    "print(f\"Length of base64 string: {len(base64_image)}\")\n",
    "print(f\"First 100 characters of base64: {base64_image[:100]}...\")\n",
    "\n",
    "# The issue might be in how we're formatting the prompt\n",
    "# Let's try a different format based on Ollama documentation\n",
    "payload = {\n",
    "    \"model\": \"llava:13b\",\n",
    "    \"messages\": [\n",
    "        {\n",
    "            \"role\": \"user\",\n",
    "            \"content\": \"Please describe this medical image as a doctor would and include what kind of imaging modality is used such as for example ultrasound, X-ray, CT, MRI.\"\n",
    "        },\n",
    "        {\n",
    "            \"role\": \"user\",\n",
    "            \"content\": [\n",
    "                {\n",
    "                    \"type\": \"image\",\n",
    "                    \"data\": base64_image\n",
    "                }\n",
    "            ]\n",
    "        }\n",
    "    ],\n",
    "    \"stream\": True\n",
    "}\n",
    "\n",
    "# Rest of your code remains the same...\n",
    "try:\n",
    "    print(\"Sending request with proper JSON format...\")\n",
    "    response = requests.post(\n",
    "        LLAVA_URL,\n",
    "        json=payload,\n",
    "        stream=True\n",
    "    )\n",
    "    \n",
    "    print(f\"Response status: {response.status_code}\")\n",
    "    print(f\"Response headers: {dict(response.headers)}\")\n",
    "    \n",
    "    if response.status_code == 200:\n",
    "        # Process streaming response\n",
    "        print(\"Processing streaming response...\")\n",
    "        full_content = \"\"\n",
    "        for line in response.iter_lines():\n",
    "            if line:\n",
    "                print(f\"Line: {line.decode('utf-8')[:100]}...\")  # Print first 100 chars\n",
    "                try:\n",
    "                    json_line = json.loads(line.decode('utf-8'))\n",
    "                    if 'message' in json_line and 'content' in json_line['message']:\n",
    "                        content_chunk = json_line['message']['content']\n",
    "                        full_content += content_chunk\n",
    "                        print(f\"Chunk added: {content_chunk}\")\n",
    "                except json.JSONDecodeError:\n",
    "                    print(f\"Could not parse line: {line}\")\n",
    "        \n",
    "        print(\"\\nFinal generated caption:\")\n",
    "        print(full_content)\n",
    "    else:\n",
    "        print(f\"Error: {response.status_code}, {response.text}\")\n",
    "\n",
    "except Exception as e:\n",
    "    print(f\"Request exception: {e}\")\n",
    "\n",
    "print(\"\\nTroubleshooting complete!\")"
   ]
  },
  {
   "cell_type": "code",
   "execution_count": null,
   "id": "7a7c20a6",
   "metadata": {},
   "outputs": [],
   "source": [
    "# Step 1: Load the dataset\n",
    "from datasets import load_dataset\n",
    "ds = load_dataset(\"eltorio/ROCOv2-radiology\")\n",
    "\n",
    "# Step 2: Extract images and captions\n",
    "images = [example[\"image\"] for example in ds[\"train\"]]\n",
    "captions = [example[\"caption\"] for example in ds[\"train\"]]"
   ]
  },
  {
   "cell_type": "code",
   "execution_count": 3,
   "id": "b8830a2b",
   "metadata": {},
   "outputs": [
    {
     "ename": "SyntaxError",
     "evalue": "invalid syntax (4104181462.py, line 1)",
     "output_type": "error",
     "traceback": [
      "\u001b[0;36m  Cell \u001b[0;32mIn[3], line 1\u001b[0;36m\u001b[0m\n\u001b[0;31m    datasets load eltorio/ROCOv2-radiology --download_mode=force\u001b[0m\n\u001b[0m             ^\u001b[0m\n\u001b[0;31mSyntaxError\u001b[0m\u001b[0;31m:\u001b[0m invalid syntax\n"
     ]
    }
   ],
   "source": [
    "datasets load eltorio/ROCOv2-radiology --download_mode=force"
   ]
  },
  {
   "cell_type": "code",
   "execution_count": 2,
   "id": "37347df9",
   "metadata": {},
   "outputs": [],
   "source": [
    "import requests\n",
    "import json\n",
    "from datasets import load_dataset\n",
    "from tqdm import tqdm\n",
    "from PIL import Image\n",
    "import os\n",
    "from nltk.translate.bleu_score import sentence_bleu\n",
    "import wandb"
   ]
  },
  {
   "cell_type": "code",
   "execution_count": null,
   "id": "5490d245",
   "metadata": {},
   "outputs": [],
   "source": [
    "# Load the saved features and captions\n",
    "features = np.load(\"features.npy\")  # Load features from the .npy file\n",
    "with open(\"captions.json\", \"r\") as f:\n",
    "    captions = json.load(f)  # Load captions from the .json file"
   ]
  },
  {
   "cell_type": "code",
   "execution_count": null,
   "id": "32d57035",
   "metadata": {},
   "outputs": [],
   "source": [
    "\n"
   ]
  }
 ],
 "metadata": {
  "kernelspec": {
   "display_name": "dat550",
   "language": "python",
   "name": "python3"
  },
  "language_info": {
   "codemirror_mode": {
    "name": "ipython",
    "version": 3
   },
   "file_extension": ".py",
   "mimetype": "text/x-python",
   "name": "python",
   "nbconvert_exporter": "python",
   "pygments_lexer": "ipython3",
   "version": "3.10.11"
  }
 },
 "nbformat": 4,
 "nbformat_minor": 5
}
