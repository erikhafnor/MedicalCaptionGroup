{
 "cells": [
  {
   "cell_type": "code",
   "execution_count": 4,
   "id": "066c154c-6eef-447d-93bc-2de8ac356016",
   "metadata": {},
   "outputs": [],
   "source": [
    "# CNN Feature -> Transformer Decoder for MedicalCaptionGroup\n",
    "\n",
    "import torch\n",
    "import torch.nn as nn\n",
    "import torch.optim as optim\n",
    "from torch.utils.data import Dataset, DataLoader\n"
   ]
  },
  {
   "cell_type": "code",
   "execution_count": 5,
   "id": "646e1c97-297e-4cb9-b322-edb0d51303a4",
   "metadata": {},
   "outputs": [],
   "source": [
    "# Example Vocabulary Size (Adjust based on your tokenizer)\n",
    "vocab_size = 5000\n",
    "\n",
    "# Parameters\n",
    "feature_dim = 2048  # ResNet50 output size\n",
    "embed_dim = 512\n",
    "num_heads = 8\n",
    "hidden_dim = 2048\n",
    "num_layers = 4\n",
    "max_caption_length = 20\n",
    "start_token_idx = 1\n",
    "end_token_idx = 2"
   ]
  },
  {
   "cell_type": "code",
   "execution_count": 6,
   "id": "293e57a0-e5b7-4e34-bc81-bdb2790a0ebc",
   "metadata": {},
   "outputs": [],
   "source": [
    "# Custom Dataset\n",
    "class MedicalCaptionDataset(Dataset):\n",
    "    def __init__(self, features, captions):\n",
    "        self.features = features\n",
    "        self.captions = captions\n",
    "\n",
    "    def __len__(self):\n",
    "        return len(self.features)\n",
    "\n",
    "    def __getitem__(self, idx):\n",
    "        feature = torch.tensor(self.features[idx], dtype=torch.float32)\n",
    "        caption = torch.tensor(self.captions[idx], dtype=torch.long)\n",
    "        return feature, caption"
   ]
  },
  {
   "cell_type": "code",
   "execution_count": 7,
   "id": "ebc0189b-6f05-47c0-aa3f-263c0d038914",
   "metadata": {},
   "outputs": [],
   "source": [
    "# Transformer Decoder Model\n",
    "class TransformerDecoder(nn.Module):\n",
    "    def __init__(self, feature_dim, vocab_size, embed_dim, num_heads, hidden_dim, num_layers):\n",
    "        super(TransformerDecoder, self).__init__()\n",
    "        self.feature_embed = nn.Linear(feature_dim, embed_dim)\n",
    "        self.caption_embed = nn.Embedding(vocab_size, embed_dim)\n",
    "\n",
    "        decoder_layer = nn.TransformerDecoderLayer(d_model=embed_dim, nhead=num_heads, dim_feedforward=hidden_dim)\n",
    "        self.transformer_decoder = nn.TransformerDecoder(decoder_layer, num_layers=num_layers)\n",
    "\n",
    "        self.fc_out = nn.Linear(embed_dim, vocab_size)\n",
    "\n",
    "    def forward(self, features, captions):\n",
    "        features = self.feature_embed(features).unsqueeze(0)\n",
    "        captions_embed = self.caption_embed(captions).permute(1, 0, 2)\n",
    "\n",
    "        output = self.transformer_decoder(tgt=captions_embed, memory=features)\n",
    "        output = self.fc_out(output)\n",
    "        return output"
   ]
  },
  {
   "cell_type": "code",
   "execution_count": 8,
   "id": "e9f3ca6e-28ec-4bdf-b036-4c118607fd30",
   "metadata": {},
   "outputs": [
    {
     "ename": "NameError",
     "evalue": "name 'all_features' is not defined",
     "output_type": "error",
     "traceback": [
      "\u001b[1;31m---------------------------------------------------------------------------\u001b[0m",
      "\u001b[1;31mNameError\u001b[0m                                 Traceback (most recent call last)",
      "Cell \u001b[1;32mIn[8], line 1\u001b[0m\n\u001b[1;32m----> 1\u001b[0m dataset \u001b[38;5;241m=\u001b[39m MedicalCaptionDataset(\u001b[43mall_features\u001b[49m, all_captions)\n\u001b[0;32m      2\u001b[0m dataloader \u001b[38;5;241m=\u001b[39m DataLoader(dataset, batch_size\u001b[38;5;241m=\u001b[39m\u001b[38;5;241m32\u001b[39m, shuffle\u001b[38;5;241m=\u001b[39m\u001b[38;5;28;01mTrue\u001b[39;00m)\n",
      "\u001b[1;31mNameError\u001b[0m: name 'all_features' is not defined"
     ]
    }
   ],
   "source": [
    "dataset = MedicalCaptionDataset(all_features, all_captions)\n",
    "dataloader = DataLoader(dataset, batch_size=32, shuffle=True)"
   ]
  },
  {
   "cell_type": "code",
   "execution_count": null,
   "id": "8329003d-59ce-4025-a138-87a237b477ce",
   "metadata": {},
   "outputs": [],
   "source": []
  }
 ],
 "metadata": {
  "kernelspec": {
   "display_name": "Python 3 (ipykernel)",
   "language": "python",
   "name": "python3"
  },
  "language_info": {
   "codemirror_mode": {
    "name": "ipython",
    "version": 3
   },
   "file_extension": ".py",
   "mimetype": "text/x-python",
   "name": "python",
   "nbconvert_exporter": "python",
   "pygments_lexer": "ipython3",
   "version": "3.13.1"
  }
 },
 "nbformat": 4,
 "nbformat_minor": 5
}
